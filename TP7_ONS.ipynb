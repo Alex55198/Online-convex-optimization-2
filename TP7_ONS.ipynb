{
 "cells": [
  {
   "cell_type": "markdown",
   "metadata": {},
   "source": [
    "## Stochastic Online Newton Step"
   ]
  },
  {
   "cell_type": "code",
   "execution_count": 1,
   "metadata": {},
   "outputs": [],
   "source": [
    "import pandas as pd\n",
    "import numpy as np\n",
    "import matplotlib.pyplot as plt\n",
    "import time\n",
    "import scipy.linalg as mat\n",
    "from sklearn.linear_model import LinearRegression\n",
    "\n",
    "mnist_train = pd.read_csv(\"mnist_train.csv\", header=None)\n",
    "mnist_test = pd.read_csv(\"mnist_test.csv\", header = None)\n",
    "n,d = mnist_train.shape\n",
    "ntest, dtest = mnist_test.shape\n",
    "\n",
    "\n",
    "y_train = mnist_train.iloc[:,0]\n",
    "X_train = mnist_train.iloc[:,1:]\n",
    "X_train /= 255\n",
    "X_train = np.array(X_train)\n",
    "\n",
    "y_test = mnist_test.iloc[:,0]\n",
    "X_test = mnist_test.iloc[:,1:]\n",
    "X_test /= 255\n",
    "X_test = np.array(X_test)\n",
    "\n",
    "\n",
    "y_train = 2*np.array(y_train == 0)-1 # binary classification\n",
    "y_test = 2*np.array(y_test == 0)-1 "
   ]
  },
  {
   "cell_type": "code",
   "execution_count": 2,
   "metadata": {},
   "outputs": [],
   "source": [
    "def hinge_reg_sgd(x, a, b, lamb):\n",
    "    threshold = b*np.dot(a,x)[0]\n",
    "    cost = np.maximum(1 - threshold,0)\n",
    "    return cost + lamb*np.dot(x.T,x)/2\n",
    "\n",
    "\n",
    "def grad_reg_sgd(x, a, b, lamb, d):\n",
    "    threshold = b*np.dot(a,x)[0]\n",
    "\n",
    "    if (threshold >= 1):\n",
    "        grad = np.zeros(d)\n",
    "    else:\n",
    "        grad = -b*a\n",
    "\n",
    "    return grad.reshape(d,) + lamb*x\n",
    "\n",
    "\n",
    "def hingereg(x, a, b, lamb):\n",
    "    threshold = np.multiply(np.dot(a,x), b) \n",
    "    cost = np.maximum(1 - threshold,0)\n",
    "    return cost.mean() + lamb*np.dot(x.T,x)/2\n",
    "\n",
    "\n",
    "\n",
    "def gradreg(x, a, b, lamb):\n",
    "    n,d = a.shape\n",
    "    threshold = np.multiply(np.dot(a,x) , b)\n",
    "    grad = -np.multiply(a, b.reshape(b.shape[0],1))\n",
    "    idx_zeros = (threshold >= 1)\n",
    "    grad[idx_zeros,:] = np.zeros(d)\n",
    "    return grad.sum(axis=0)/n + lamb*x\n",
    "\n",
    "\n",
    "\n",
    "def proj_simplex(x, z=1):\n",
    "\n",
    "    d = x.shape[0]\n",
    "    x_sorted = -np.sort(-x) \n",
    "    x_cumsum = np.cumsum(x_sorted)\n",
    "    find = x_sorted - (1/np.arange(1,d+1,1))*(x_cumsum - z)\n",
    "    d0 = np.argmax(find <= 0) \n",
    "    theta_star = (1/d0)*(x_cumsum[d0-1] - z)\n",
    "\n",
    "    return np.maximum(x-theta_star,0)\n",
    "\n",
    "\n",
    "def proj_l1(x, z=1):\n",
    "    x_abs = np.absolute(x)\n",
    "    if (np.sum(x_abs) > z):\n",
    "        p_simplex = proj_simplex(x_abs, z)\n",
    "        sgn = 2*(x>0)-1\n",
    "        x = np.multiply(sgn, p_simplex)    \n",
    "    return x\n",
    "\n",
    "\n",
    "\n",
    "def proj_l1_w(x,w,z=1):\n",
    "\n",
    "    v = abs(x* w)\n",
    "    u = np.argsort(-v)\n",
    "  \n",
    "    sx = np.cumsum(abs(x)[u])\n",
    "    sw = np.cumsum(1/w[u])\n",
    "    \n",
    "    rho = np.argmax(v[u] - (sx-z) / sw <= 0) - 1\n",
    "    theta = (sx[rho] -z) / sw[rho]\n",
    "    \n",
    "    x_simplex = np.maximum(abs(x) - theta/w, 0)\n",
    "    x_abs = np.absolute(x)\n",
    "    if (np.sum(x_abs) > z):\n",
    "        sgn = np.sign(x)\n",
    "        x = np.multiply(sgn, x_simplex)  \n",
    "        \n",
    "    return x"
   ]
  },
  {
   "cell_type": "code",
   "execution_count": 3,
   "metadata": {},
   "outputs": [],
   "source": [
    "def ONS(a, b, iters, cost,  grad, lamb, X_test = None, y_test = None, z=10):\n",
    "\n",
    "    start_time = time.time()\n",
    "    n,d = a.shape\n",
    "    \n",
    "    indices = np.random.randint(0,n,iters)\n",
    "    test_scores = []\n",
    "    \n",
    "    gamma = min(1, 1/(8*z)) \n",
    "    eps = (1/((gamma**2)*(2*z)**2))\n",
    "    \n",
    "    xt = np.zeros(d)\n",
    "    At = np.eye(d)*eps\n",
    "    At_m1 = np.zeros((d,d))\n",
    "    np.fill_diagonal(At_m1, 1/np.diag(At))\n",
    "    p_mean = np.zeros(d)\n",
    "    \n",
    "    \n",
    "    for i in range(1,iters+1):\n",
    "        \n",
    "        # Random indice\n",
    "        x_i = a[indices[i-1],:].reshape(1,d)\n",
    "        y_i = b[indices[i-1]]\n",
    "        \n",
    "        # ONS update \n",
    "        grad_t = grad(xt, x_i, y_i, lamb, d)\n",
    "        hess_hat = np.outer(grad_t, grad_t) \n",
    "        At += hess_hat       \n",
    "        At_m1 -= (1/(1+grad_t.dot(At_m1).dot(grad_t)))*(At_m1.dot(hess_hat).dot(At_m1))\n",
    "        yt = xt - (1/gamma)*np.dot(At_m1, grad_t)\n",
    "        #xt = np.real(mat.sqrtm(At_m1*i).dot(proj_l1(mat.sqrtm(At/i).dot(yt), z)))\n",
    "        xt = yt # algorithm without projection to avoid numerical errors\n",
    "        \n",
    "        # Save\n",
    "        p_mean += xt\n",
    "        test_score = (np.multiply(np.matmul(X_test,p_mean/i), y_test) > 0).mean() \n",
    "        test_scores.append(test_score)\n",
    "    \n",
    "    \n",
    "    end_time = time.time()\n",
    "    print(\"Time of execution : %s seconds\" % (end_time - start_time)) \n",
    "    return np.array(test_scores)"
   ]
  },
  {
   "cell_type": "code",
   "execution_count": 4,
   "metadata": {},
   "outputs": [
    {
     "name": "stdout",
     "output_type": "stream",
     "text": [
      "Time of execution : 8.021506071090698 seconds\n",
      "max test scores : 0.9623\n",
      "last test scores : 0.9614\n"
     ]
    },
    {
     "data": {
      "image/png": "[encoded data removed]",
      "text/plain": [
       "<Figure size 432x288 with 1 Axes>"
      ]
     },
     "metadata": {
      "needs_background": "light"
     },
     "output_type": "display_data"
    }
   ],
   "source": [
    "niter = 150\n",
    "z=15\n",
    "lamb = (1/3)\n",
    "test_scores_ons = ONS(X_train, y_train, niter, hinge_reg_sgd, grad_reg_sgd, lamb, X_test, y_test, z)\n",
    "\n",
    "# Convergence of test loss\n",
    "print(\"max test scores : {}\".format(np.amax(test_scores_ons)))\n",
    "print(\"last test scores : {}\".format(test_scores_ons[-1]))\n",
    "plt.plot(np.log(range(1, niter+1)), np.log(1-np.array(test_scores_ons)), label = \"test loss\")\n",
    "plt.xlabel(\"Iterations\")\n",
    "plt.legend()\n",
    "plt.show()"
   ]
  },
  {
   "cell_type": "markdown",
   "metadata": {},
   "source": [
    "#### Hyperparameters optimization"
   ]
  },
  {
   "cell_type": "code",
   "execution_count": 27,
   "metadata": {},
   "outputs": [],
   "source": [
    "def opt_ons(xtrain, ytrain, xtest, ytest):\n",
    "    best_score = -np.inf\n",
    "    best_l = 0\n",
    "    best_z = 0\n",
    "    \n",
    "    niter = 100\n",
    "    list_l = np.logspace(-3,5,5)\n",
    "    list_z = np.logspace(-3,5,5)\n",
    "\n",
    "    for l in list_l:\n",
    "        for z in list_z:\n",
    "            x0 = np.zeros(784) \n",
    "            _, _, test_scores = ONS_diag(xtrain, ytrain, niter, hinge_reg_sgd, grad_reg_sgd, l, xtest, ytest, z)\n",
    "            last_score = test_scores[-10:].mean()\n",
    "            print(\"Lambda = {}, z = {}, score = {}\".format(l, z, last_score), \"\\t\")\n",
    "            if (last_score >= best_score):\n",
    "                best_score = last_score\n",
    "                best_z = z\n",
    "                best_l = l                \n",
    "            \n",
    "    return best_z, best_l"
   ]
  },
  {
   "cell_type": "code",
   "execution_count": 1,
   "metadata": {},
   "outputs": [],
   "source": [
    "best_z, best_l = opt_ons(X_train, y_train, X_test, y_test)"
   ]
  }
 ],
 "metadata": {
  "kernelspec": {
   "display_name": "Python 3",
   "language": "python",
   "name": "python3"
  },
  "language_info": {
   "codemirror_mode": {
    "name": "ipython",
    "version": 3
   },
   "file_extension": ".py",
   "mimetype": "text/x-python",
   "name": "python",
   "nbconvert_exporter": "python",
   "pygments_lexer": "ipython3",
   "version": "3.7.3"
  }
 },
 "nbformat": 4,
 "nbformat_minor": 2
}
