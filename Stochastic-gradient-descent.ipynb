{
 "cells": [
  {
   "cell_type": "markdown",
   "metadata": {},
   "source": [
    "## Stochastic gradient descent"
   ]
  },
  {
   "cell_type": "code",
   "execution_count": 1,
   "metadata": {},
   "outputs": [],
   "source": [
    "import pandas as pd\n",
    "import numpy as np\n",
    "import matplotlib.pyplot as plt\n",
    "import time\n",
    "from sklearn.linear_model import LinearRegression\n",
    "\n",
    "mnist_train = pd.read_csv(\"mnist_train.csv\", header=None)\n",
    "mnist_test = pd.read_csv(\"mnist_test.csv\", header = None)\n",
    "n,d = mnist_train.shape\n",
    "ntest, dtest = mnist_test.shape\n",
    "\n",
    "\n",
    "y_train = mnist_train.iloc[:,0]\n",
    "X_train = mnist_train.iloc[:,1:]\n",
    "X_train /= 255\n",
    "X_train = np.array(X_train)\n",
    "\n",
    "y_test = mnist_test.iloc[:,0]\n",
    "X_test = mnist_test.iloc[:,1:]\n",
    "X_test /= 255\n",
    "X_test = np.array(X_test)\n",
    "\n",
    "\n",
    "y_train = 2*np.array(y_train == 0)-1 # binary classification\n",
    "y_test = 2*np.array(y_test == 0)-1 "
   ]
  },
  {
   "cell_type": "markdown",
   "metadata": {},
   "source": [
    "### Functions for SGD"
   ]
  },
  {
   "cell_type": "code",
   "execution_count": 2,
   "metadata": {},
   "outputs": [],
   "source": [
    "def hinge_reg_sgd(x, a, b, lamb):\n",
    "    threshold = b*np.dot(a,x)[0]\n",
    "    cost = np.maximum(1 - threshold,0)\n",
    "    return cost + lamb*np.dot(x.T,x)/2"
   ]
  },
  {
   "cell_type": "code",
   "execution_count": 3,
   "metadata": {},
   "outputs": [],
   "source": [
    "def grad_reg_sgd(x, a, b, lamb, d):\n",
    "    threshold = b*np.dot(a,x)[0]\n",
    "\n",
    "    if (threshold >= 1):\n",
    "        grad = np.zeros(d)\n",
    "    else:\n",
    "        grad = -b*a\n",
    "\n",
    "    return grad.reshape(d,) + lamb*x"
   ]
  },
  {
   "cell_type": "code",
   "execution_count": 4,
   "metadata": {},
   "outputs": [],
   "source": [
    "def hingereg(x, a, b, lamb):\n",
    "    threshold = np.multiply(np.dot(a,x), b) \n",
    "    cost = np.maximum(1 - threshold,0)\n",
    "    return cost.mean() + lamb*np.dot(x.T,x)/2"
   ]
  },
  {
   "cell_type": "code",
   "execution_count": 5,
   "metadata": {},
   "outputs": [],
   "source": [
    "def gradreg(x, a, b, lamb):\n",
    "    n,d = a.shape\n",
    "    threshold = np.multiply(np.dot(a,x) , b)\n",
    "    grad = -np.multiply(a, b.reshape(b.shape[0],1))\n",
    "    idx_zeros = (threshold >= 1)\n",
    "    grad[idx_zeros,:] = np.zeros(d)\n",
    "    return grad.sum(axis=0)/n + lamb*x"
   ]
  },
  {
   "cell_type": "code",
   "execution_count": 6,
   "metadata": {},
   "outputs": [],
   "source": [
    "def SGD(a, b, init, iters, cost,  grad, lamb, X_test = None, y_test = None):\n",
    "\n",
    "    start_time = time.time()\n",
    "    n,d = a.shape\n",
    "    \n",
    "    indices = np.random.randint(0,n,iters)\n",
    "    params = []\n",
    "    costs = []\n",
    "    test_scores = []\n",
    "    params.append(init)\n",
    "    p_mean = np.zeros(d)\n",
    "    \n",
    "    for i in range(1,iters+1):\n",
    "\n",
    "        eta = lamb/np.sqrt(i+1) \n",
    "        x_i = a[indices[i-1],:].reshape(1,d)\n",
    "        y_i = b[indices[i-1]]\n",
    "        p = params[-1] - eta * grad(params[-1], x_i, y_i, lamb, d)\n",
    "        p_mean += p\n",
    "        params.append(p)\n",
    "        c = hingereg(p, a, b, lamb)\n",
    "        costs.append(c)\n",
    "        test_score = (np.multiply(np.matmul(X_test,p_mean/i), y_test) > 0).mean() \n",
    "        test_scores.append(test_score)\n",
    "    \n",
    "    \n",
    "    end_time = time.time()\n",
    "    print(\"Time of execution : %s seconds\" % (end_time - start_time)) \n",
    "    return params, costs, np.array(test_scores)"
   ]
  },
  {
   "cell_type": "markdown",
   "metadata": {},
   "source": [
    "#### Train for MNIST"
   ]
  },
  {
   "cell_type": "code",
   "execution_count": 7,
   "metadata": {},
   "outputs": [
    {
     "name": "stdout",
     "output_type": "stream",
     "text": [
      "Time of execution : 12.69133734703064 seconds\n"
     ]
    }
   ],
   "source": [
    "x0 = np.zeros(784)\n",
    "niter = 250\n",
    "params, costs, test_scores = SGD(X_train, y_train, x0, niter, hinge_reg_sgd, grad_reg_sgd, (1/3), X_test, y_test)"
   ]
  },
  {
   "cell_type": "code",
   "execution_count": 8,
   "metadata": {},
   "outputs": [
    {
     "name": "stdout",
     "output_type": "stream",
     "text": [
      "max test scores : 0.9137\n",
      "last test scores : 0.9137\n",
      "Estimated convergence rate : -0.03075270297122766\n"
     ]
    },
    {
     "data": {
      "image/png": "[encoded data removed]",
      "text/plain": [
       "<Figure size 432x288 with 1 Axes>"
      ]
     },
     "metadata": {
      "needs_background": "light"
     },
     "output_type": "display_data"
    }
   ],
   "source": [
    "print(\"max test scores : {}\".format(max(test_scores)))\n",
    "print(\"last test scores : {}\".format(test_scores[-1]))\n",
    "\n",
    "plt.plot(np.log(range(1, niter+1)), np.log(1-test_scores))\n",
    "plt.title(\"Convergence for test set (log-scale)\")\n",
    "lm = LinearRegression()\n",
    "lm.fit(np.log(range(1, niter+1)).reshape(niter,1), np.log(1-test_scores))\n",
    "regCoeff = lm.coef_[0]\n",
    "print(\"Estimated convergence rate : {}\".format(regCoeff))\n",
    "plt.show()"
   ]
  },
  {
   "cell_type": "markdown",
   "metadata": {},
   "source": [
    "### Projected SGD"
   ]
  },
  {
   "cell_type": "code",
   "execution_count": 9,
   "metadata": {},
   "outputs": [],
   "source": [
    "def proj_simplex(x, z=1):\n",
    "\n",
    "    d = x.shape[0]\n",
    "    x_sorted = -np.sort(-x) \n",
    "    x_cumsum = np.cumsum(x_sorted)\n",
    "    find = x_sorted - (1/np.arange(1,d+1,1))*(x_cumsum - z)\n",
    "    d0 = np.argmax(find <= 0) #+ 1\n",
    "    theta_star = (1/d0)*(x_cumsum[d0-1] - z)\n",
    "\n",
    "    return np.maximum(x-theta_star,0)\n",
    "\n",
    "\n",
    "def proj_l1(x, z=1):\n",
    "    x_abs = np.absolute(x)\n",
    "    if (np.sum(x_abs) > z):\n",
    "        p_simplex = proj_simplex(x_abs, z)\n",
    "        sgn = 2*(x>0)-1\n",
    "        x = np.multiply(sgn, p_simplex)    \n",
    "    return x"
   ]
  },
  {
   "cell_type": "code",
   "execution_count": 10,
   "metadata": {},
   "outputs": [],
   "source": [
    "def proj_SGD(a, b, init, iters, cost,  grad, lamb, X_test = None, y_test = None, z=10):\n",
    "\n",
    "    start_time = time.time()\n",
    "    n,d = a.shape\n",
    "    \n",
    "    indices = np.random.randint(0,n,iters)\n",
    "    params = []\n",
    "    costs = []\n",
    "    test_scores = []\n",
    "    params.append(init)\n",
    "    p_mean = init\n",
    "    \n",
    "    for i in range(1,iters+1):\n",
    "\n",
    "        eta = lamb/np.sqrt(i+1) \n",
    "        x_i = a[indices[i-1],:].reshape(1,d)\n",
    "        y_i = b[indices[i-1]]\n",
    "        y = params[-1] - eta * grad(params[-1], x_i, y_i, lamb, d)\n",
    "        p = proj_l1(y, z)\n",
    "        p_mean += p\n",
    "        params.append(p)\n",
    "        c = hingereg(p, a, b, lamb)\n",
    "        costs.append(c)\n",
    "        test_score = (np.multiply(np.matmul(X_test,p_mean/i), y_test) > 0).mean() \n",
    "        test_scores.append(test_score)\n",
    "    \n",
    "    \n",
    "    end_time = time.time()\n",
    "    print(\"Time of execution : %s seconds\" % (end_time - start_time)) \n",
    "    return params, costs, np.array(test_scores)"
   ]
  },
  {
   "cell_type": "code",
   "execution_count": 11,
   "metadata": {},
   "outputs": [
    {
     "name": "stdout",
     "output_type": "stream",
     "text": [
      "Time of execution : 8.049211502075195 seconds\n"
     ]
    }
   ],
   "source": [
    "x0 = np.zeros(784)\n",
    "niter = 250 \n",
    "z=10\n",
    "params_proj, costs_proj, test_scores_proj = proj_SGD(X_train, y_train, x0, niter, hinge_reg_sgd, grad_reg_sgd, (1/3), X_test, y_test, z)"
   ]
  },
  {
   "cell_type": "code",
   "execution_count": 12,
   "metadata": {},
   "outputs": [
    {
     "name": "stdout",
     "output_type": "stream",
     "text": [
      "max test scores : 0.9445\n",
      "last test scores : 0.9445\n"
     ]
    },
    {
     "data": {
      "image/png": "[encoded data removed]",
      "text/plain": [
       "<Figure size 1080x360 with 1 Axes>"
      ]
     },
     "metadata": {
      "needs_background": "light"
     },
     "output_type": "display_data"
    }
   ],
   "source": [
    "print(\"max test scores : {}\".format(max(test_scores_proj)))\n",
    "print(\"last test scores : {}\".format(test_scores_proj[-1]))\n",
    "\n",
    "# Plot convergence rate with/without projection step\n",
    "\n",
    "plt.figure(figsize = (15,5))\n",
    "plt.subplot(1,2,1)\n",
    "plt.plot(np.log(range(1, niter+1)), np.log(1-test_scores), label = \"without proj\")\n",
    "plt.plot(np.log(range(1, niter+1)), np.log(1-test_scores_proj), label = \"with proj\")\n",
    "plt.xlabel(\"Iterations\")\n",
    "plt.ylabel(\"Test loss (log-scale)\")\n",
    "plt.title(\"Loss with/without projection step\")\n",
    "plt.legend()\n",
    "plt.show()"
   ]
  }
 ],
 "metadata": {
  "kernelspec": {
   "display_name": "Python 3",
   "language": "python",
   "name": "python3"
  },
  "language_info": {
   "codemirror_mode": {
    "name": "ipython",
    "version": 3
   },
   "file_extension": ".py",
   "mimetype": "text/x-python",
   "name": "python",
   "nbconvert_exporter": "python",
   "pygments_lexer": "ipython3",
   "version": "3.7.3"
  }
 },
 "nbformat": 4,
 "nbformat_minor": 2
}
