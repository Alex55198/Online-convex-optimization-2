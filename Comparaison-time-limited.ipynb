{
 "cells": [
  {
   "cell_type": "markdown",
   "metadata": {},
   "source": [
    "## Algorithms comparaison with time limited"
   ]
  },
  {
   "cell_type": "markdown",
   "metadata": {},
   "source": [
    "#### Initialisation"
   ]
  },
  {
   "cell_type": "code",
   "execution_count": 1,
   "metadata": {},
   "outputs": [],
   "source": [
    "import pandas as pd\n",
    "import numpy as np\n",
    "import matplotlib.pyplot as plt\n",
    "import time\n",
    "from sklearn.linear_model import LinearRegression\n",
    "\n",
    "mnist_train = pd.read_csv(\"mnist_train.csv\", header=None)\n",
    "mnist_test = pd.read_csv(\"mnist_test.csv\", header = None)\n",
    "n,d = mnist_train.shape\n",
    "ntest, dtest = mnist_test.shape\n",
    "\n",
    "\n",
    "y_train = mnist_train.iloc[:,0]\n",
    "X_train = mnist_train.iloc[:,1:]\n",
    "X_train /= 255\n",
    "X_train = np.array(X_train)\n",
    "\n",
    "y_test = mnist_test.iloc[:,0]\n",
    "X_test = mnist_test.iloc[:,1:]\n",
    "X_test /= 255\n",
    "X_test = np.array(X_test)\n",
    "\n",
    "\n",
    "y_train = 2*np.array(y_train == 0)-1\n",
    "y_test = 2*np.array(y_test == 0)-1"
   ]
  },
  {
   "cell_type": "code",
   "execution_count": 2,
   "metadata": {},
   "outputs": [],
   "source": [
    "def hinge_reg_sgd(x, a, b, lamb):\n",
    "    threshold = b*np.dot(a,x)[0]\n",
    "    cost = np.maximum(1 - threshold,0)\n",
    "    return cost + lamb*np.dot(x.T,x)/2"
   ]
  },
  {
   "cell_type": "code",
   "execution_count": 3,
   "metadata": {},
   "outputs": [],
   "source": [
    "def grad_reg_sgd(x, a, b, lamb, d):\n",
    "    threshold = b*np.dot(a,x)[0]\n",
    "\n",
    "    if (threshold >= 1):\n",
    "        grad = np.zeros(d)\n",
    "    else:\n",
    "        grad = -b*a\n",
    "\n",
    "    return grad.reshape(d,) + lamb*x"
   ]
  },
  {
   "cell_type": "code",
   "execution_count": 4,
   "metadata": {},
   "outputs": [],
   "source": [
    "def hingereg(x, a, b, lamb):\n",
    "    threshold = np.multiply(np.dot(a,x), b) \n",
    "    cost = np.maximum(1 - threshold,0)\n",
    "    return cost.mean() + lamb*np.dot(x.T,x)/2"
   ]
  },
  {
   "cell_type": "code",
   "execution_count": 5,
   "metadata": {},
   "outputs": [],
   "source": [
    "def gradreg(x, a, b, lamb):\n",
    "    n,d = a.shape\n",
    "    threshold = np.multiply(np.dot(a,x) , b)\n",
    "    grad = -np.multiply(a, b.reshape(b.shape[0],1))\n",
    "    idx_zeros = (threshold >= 1)\n",
    "    grad[idx_zeros,:] = np.zeros(d)\n",
    "    return grad.sum(axis=0)/n + lamb*x"
   ]
  },
  {
   "cell_type": "code",
   "execution_count": 6,
   "metadata": {},
   "outputs": [],
   "source": [
    "def sample_ball(dim):\n",
    "    u = np.random.normal(0,1,dim)\n",
    "    norm=np.sum(u**2) **(0.5)\n",
    "    r = np.random.rand()**(1.0/dim)\n",
    "    x = r*u/norm\n",
    "    return x"
   ]
  },
  {
   "cell_type": "code",
   "execution_count": 7,
   "metadata": {},
   "outputs": [],
   "source": [
    "def proj_l2(x, z=1):\n",
    "    norm = np.sqrt(np.sum(x**2))\n",
    "    if (norm > z):\n",
    "        x /= (norm/z)\n",
    "    return x"
   ]
  },
  {
   "cell_type": "code",
   "execution_count": 8,
   "metadata": {},
   "outputs": [],
   "source": [
    "def proj_simplex(x, z=1):\n",
    "\n",
    "    d = x.shape[0]\n",
    "    x_sorted = -np.sort(-x) \n",
    "    x_cumsum = np.cumsum(x_sorted)\n",
    "    find = x_sorted - (1/np.arange(1,d+1,1))*(x_cumsum - z)\n",
    "    d0 = np.argmax(find <= 0) \n",
    "    theta_star = (1/d0)*(x_cumsum[d0-1] - z)\n",
    "\n",
    "    return np.maximum(x-theta_star,0)\n",
    "\n",
    "\n",
    "def proj_l1(x, z=1):\n",
    "    x_abs = np.absolute(x)\n",
    "    if (np.sum(x_abs) > z):\n",
    "        p_simplex = proj_simplex(x_abs, z)\n",
    "        sgn = 2*(x>0)-1\n",
    "        x = np.multiply(sgn, p_simplex)    \n",
    "    return x"
   ]
  },
  {
   "cell_type": "code",
   "execution_count": 9,
   "metadata": {},
   "outputs": [],
   "source": [
    "def proj_l1_w(x,w,z=1):\n",
    "    v = abs(x* w)\n",
    "    u = np.argsort(-v)\n",
    "  \n",
    "    sx = np.cumsum(abs(x)[u])\n",
    "    sw = np.cumsum(1/w[u])\n",
    "    \n",
    "    rho = np.argmax(v[u] - (sx-z) / sw <= 0) - 1\n",
    "    theta = (sx[rho] -z) / sw[rho]\n",
    "    \n",
    "    x_simplex = np.maximum(abs(x) - theta/w, 0)\n",
    "    x_abs = np.absolute(x)\n",
    "    if (np.sum(x_abs) > z):\n",
    "        sgn = np.sign(x)\n",
    "        x = np.multiply(sgn, x_simplex)  \n",
    "        \n",
    "    return x"
   ]
  },
  {
   "cell_type": "code",
   "execution_count": 10,
   "metadata": {},
   "outputs": [],
   "source": [
    "def oracle_l1(x,z=10):\n",
    "    idx = np.argmax(np.abs(x))\n",
    "    sign = np.sign(x[idx])\n",
    "    res = np.zeros(784) \n",
    "    res[idx] = z*sign\n",
    "    return res"
   ]
  },
  {
   "cell_type": "markdown",
   "metadata": {},
   "source": [
    "#### Baseline algorithms"
   ]
  },
  {
   "cell_type": "code",
   "execution_count": 11,
   "metadata": {},
   "outputs": [],
   "source": [
    "def GD(a, b, init, iters, cost,  grad, lamb, X_test = None, y_test = None):\n",
    "\n",
    "    test_scores = []\n",
    "    p=init\n",
    "    \n",
    "    i=1\n",
    "    timeout = time.time() + time_ex\n",
    "    while True:\n",
    "        eta = lamb/np.sqrt(i+1) \n",
    "        p -= eta * grad(p, a, b, lamb)\n",
    "        test_score = (np.multiply(np.matmul(X_test,p), y_test) > 0).mean() \n",
    "        test_scores.append(test_score)\n",
    "        \n",
    "        i += 1\n",
    "        if time.time() > timeout:\n",
    "            break\n",
    "     \n",
    "    \n",
    "    print(\"Last test score for GD : {}\".format(test_scores[-1]))\n",
    "        \n",
    "    return np.array(test_scores)"
   ]
  },
  {
   "cell_type": "code",
   "execution_count": 12,
   "metadata": {},
   "outputs": [],
   "source": [
    "def projected_GD(a, b, init, iters, cost,  grad, lamb, X_test = None, y_test = None, z=10):\n",
    "\n",
    "    test_scores = []\n",
    "    p=init\n",
    "    \n",
    "    i=1\n",
    "    timeout = time.time() + time_ex\n",
    "    while True:\n",
    "        eta = lamb/np.sqrt(i+1) \n",
    "        y = p - eta * grad(p, a, b, lamb)\n",
    "        p = proj_l1(y, z)\n",
    "        test_score = (np.multiply(np.matmul(X_test,p), y_test) > 0).mean() \n",
    "        test_scores.append(test_score)\n",
    "        \n",
    "        i += 1\n",
    "        if time.time() > timeout:\n",
    "            break\n",
    "       \n",
    "    \n",
    "    print(\"Last test score for projected GD : {}\".format(test_scores[-1]))\n",
    "    \n",
    "    return np.array(test_scores)"
   ]
  },
  {
   "cell_type": "code",
   "execution_count": 13,
   "metadata": {},
   "outputs": [],
   "source": [
    "def ONS(a, b, iters, cost,  grad, lamb, X_test = None, y_test = None, z=10):\n",
    "\n",
    "    start_time = time.time()\n",
    "    n,d = a.shape\n",
    "    \n",
    "    indices = np.random.randint(0,n,iters)\n",
    "    test_scores = []\n",
    "    \n",
    "    gamma = min(1, 1/(8*z)) # theorem\n",
    "    eps = (1/((gamma**2)*(2*z)**2))\n",
    "    \n",
    "    xt = np.zeros(d)\n",
    "    At = np.eye(d)*eps\n",
    "    At_m1 = np.zeros((d,d))\n",
    "    np.fill_diagonal(At_m1, 1/np.diag(At))\n",
    "    p_mean = np.zeros(d)\n",
    "    \n",
    "    \n",
    "    i=1\n",
    "    timeout = time.time() + time_ex\n",
    "    while True:\n",
    "        \n",
    "        # Random indice\n",
    "        x_i = a[indices[i-1],:].reshape(1,d)\n",
    "        y_i = b[indices[i-1]]\n",
    "        \n",
    "        # ONS update \n",
    "        grad_t = grad(xt, x_i, y_i, lamb, d)\n",
    "        hess_hat = np.outer(grad_t, grad_t) \n",
    "        At += hess_hat       \n",
    "        At_m1 -= (1/(1+grad_t.dot(At_m1).dot(grad_t)))*(At_m1.dot(hess_hat).dot(At_m1))\n",
    "        yt = xt - (1/gamma)*np.dot(At_m1, grad_t)\n",
    "        #xt = np.real(mat.sqrtm(At_m1*i).dot(proj_l1(mat.sqrtm(At/i).dot(yt), z)))\n",
    "        xt = yt\n",
    "        \n",
    "        # Save\n",
    "        p_mean += xt\n",
    "        test_score = (np.multiply(np.matmul(X_test,p_mean/i), y_test) > 0).mean() \n",
    "        test_scores.append(test_score)\n",
    "        \n",
    "        i += 1\n",
    "        if time.time() > timeout:\n",
    "            break\n",
    "    \n",
    "    \n",
    "    end_time = time.time()\n",
    "    print(\"Time of execution : %s seconds\" % (end_time - start_time)) \n",
    "    return np.array(test_scores)"
   ]
  },
  {
   "cell_type": "markdown",
   "metadata": {},
   "source": [
    "#### New algorithms"
   ]
  },
  {
   "cell_type": "code",
   "execution_count": 14,
   "metadata": {},
   "outputs": [],
   "source": [
    "def OSPF(a, b, init, iters, cost,  grad, oracle, X_test = None, y_test = None, z=0.75, k=5, delta=1, lamb = (1/3)):\n",
    "\n",
    "    start_time = time.time()\n",
    "    n,d = a.shape\n",
    "    \n",
    "    indices = np.random.randint(0,n,iters)\n",
    "    test_scores = []\n",
    "    grad_sum = np.zeros(d)\n",
    "    x_mean = init\n",
    "    x_t = init\n",
    "\n",
    "    \n",
    "    i=1\n",
    "    timeout = time.time() + time_ex\n",
    "    while True:\n",
    "        delta = np.sqrt(1/i)\n",
    "        \n",
    "        if (i % k != 0):\n",
    "            x_i = a[indices[i-1],:].reshape(1,d)\n",
    "            y_i = b[indices[i-1]]\n",
    "            grad_t = grad(x_t, x_i, y_i, lamb, d)\n",
    "            grad_sum += grad_t\n",
    "            \n",
    "            x_mean += x_t\n",
    "            test_score = (np.multiply(np.matmul(X_test,x_mean/i), y_test) > 0).mean() \n",
    "            test_scores.append(test_score)\n",
    "            \n",
    "            \n",
    "        else:\n",
    "            to_proj = [(1/delta)*sample_ball(d) -grad_sum for _ in range(k)]\n",
    "            xj = np.array([oracle(x, z) for x in to_proj])\n",
    "            x_t = np.mean(xj, axis=0)\n",
    "            \n",
    "            x_mean += x_t\n",
    "            test_score = (np.multiply(np.matmul(X_test,x_mean/i), y_test) > 0).mean() \n",
    "            test_scores.append(test_score)\n",
    "            \n",
    "            \n",
    "            x_i = a[indices[i-1],:].reshape(1,d)\n",
    "            y_i = b[indices[i-1]]\n",
    "            grad_t = grad(x_t, x_i, y_i, lamb, d)\n",
    "            grad_sum += grad_t\n",
    "        \n",
    "        i += 1\n",
    "        if time.time() > timeout:\n",
    "            break\n",
    "        \n",
    "        \n",
    "    \n",
    "    end_time = time.time()\n",
    "    print(\"Last test score for OSPF : {}\".format(test_scores[-1]))\n",
    "    return np.array(test_scores)"
   ]
  },
  {
   "cell_type": "code",
   "execution_count": 15,
   "metadata": {},
   "outputs": [],
   "source": [
    "def SFPL_v2(a, b, iters, cost,  grad, oracle, X_test = None, y_test = None, z=10, delta=1, m = 25, lamb = (1/3)):\n",
    "\n",
    "    n,d = a.shape\n",
    "    \n",
    "    indices = np.random.randint(0,n,iters)\n",
    "    test_scores = []\n",
    "    \n",
    "    grad_sum = np.zeros(d)\n",
    "    x_mean = np.zeros(d)\n",
    "    x_t = np.zeros(d)\n",
    "\n",
    "    i=1\n",
    "    timeout = time.time() + time_ex\n",
    "    while True:       \n",
    "        # Learn\n",
    "        delta, m = np.sqrt(1/i), int(1+lamb*z*np.sqrt(i))\n",
    "        vjs = np.array([sample_ball(d) for _ in range(m)]) # shape = m x d\n",
    "        xjs = np.array([oracle(-grad_sum+ (1/delta)*vjs[j], z) for j in range(m)]) \n",
    "        xt = np.mean(xjs, axis=0)\n",
    "        x_mean += xt\n",
    "        \n",
    "        # Incur\n",
    "        x_i = a[indices[i-1],:].reshape(1,d)\n",
    "        y_i = b[indices[i-1]]\n",
    "        grad_t = grad(xt, x_i, y_i, lamb, d)\n",
    "        grad_sum += grad_t\n",
    "            \n",
    "\n",
    "        # Save\n",
    "        test_score = (np.multiply(np.matmul(X_test,x_mean/i), y_test) > 0).mean() \n",
    "        test_scores.append(test_score)\n",
    "        \n",
    "        i += 1\n",
    "        if time.time() > timeout:\n",
    "            break\n",
    "    \n",
    "    \n",
    "    print(\"Last test score for SFPL : {}\".format(test_scores[-1]))\n",
    "    return (x_mean/iters), np.array(test_scores)"
   ]
  },
  {
   "cell_type": "markdown",
   "metadata": {},
   "source": [
    "#### Results"
   ]
  },
  {
   "cell_type": "code",
   "execution_count": 16,
   "metadata": {},
   "outputs": [],
   "source": [
    "nb_min = 1\n",
    "time_ex = 60*nb_min\n",
    "\n",
    "def learn_and_plot():\n",
    "    l = (1/3)\n",
    "    niter=15000\n",
    "    \n",
    "    # Baselines    \n",
    "    x0 = np.zeros(784) \n",
    "    test_scores_gd_proj = projected_GD(X_train, y_train, x0, iters=niter, cost = hingereg, grad = gradreg, lamb=(1/3), X_test=X_test, y_test=y_test)\n",
    "\n",
    "    x0 = np.zeros(784) \n",
    "    test_scores_gd = GD(X_train, y_train, x0, iters=niter, cost = hingereg, grad = gradreg, lamb=(1/3), X_test=X_test, y_test=y_test)\n",
    "\n",
    "    z=15\n",
    "    x0 = np.zeros(784) \n",
    "    lamb=(1/3)\n",
    "    test_scores_ons = ONS(X_train, y_train, niter, hinge_reg_sgd, grad_reg_sgd, lamb, X_test, y_test, z)\n",
    "    \n",
    "    # New algorithm\n",
    "    x0 = np.zeros(784) \n",
    "    delta, k = np.sqrt(1/niter), 5\n",
    "    lamb = (1/3)\n",
    "    z=0.75\n",
    "    test_scores_ospf = OSPF(X_train, y_train, x0, niter, hinge_reg_sgd, grad_reg_sgd, proj_l2, X_test, y_test, z, k, delta, lamb)\n",
    "\n",
    "  \n",
    "    # Plot\n",
    "    plt.plot(np.log(range(1, 1+len(test_scores_ospf))), np.log(1-test_scores_ospf), label = \"OSPF\")\n",
    "    plt.plot(np.log(range(1, 1+len(test_scores_gd))), np.log(1-test_scores_gd), label = \"GD\")\n",
    "    plt.plot(np.log(range(1, 1+len(test_scores_gd_proj))), np.log(1-test_scores_gd_proj), label = \"GD proj\")\n",
    "    plt.plot(np.log(range(1, 1+len(test_scores_ons))), np.log(1-test_scores_ons), label = \"ONS\")\n",
    "    \n",
    "\n",
    "    plt.xlabel(\"Iterations (log-scale)\")\n",
    "    plt.ylabel(\"Test loss (log-scale)\")\n",
    "    plt.legend()\n",
    "    plt.show()"
   ]
  },
  {
   "cell_type": "code",
   "execution_count": 17,
   "metadata": {},
   "outputs": [
    {
     "name": "stdout",
     "output_type": "stream",
     "text": [
      "Last test score for projected GD : 0.979\n",
      "Last test score for GD : 0.979\n",
      "Time of execution : 60.05183458328247 seconds\n",
      "Last test score for OSPF : 0.9773\n"
     ]
    },
    {
     "data": {
      "image/png": "[encoded data removed]",
      "text/plain": [
       "<Figure size 432x288 with 1 Axes>"
      ]
     },
     "metadata": {
      "needs_background": "light"
     },
     "output_type": "display_data"
    }
   ],
   "source": [
    "learn_and_plot()"
   ]
  }
 ],
 "metadata": {
  "kernelspec": {
   "display_name": "Python 3",
   "language": "python",
   "name": "python3"
  },
  "language_info": {
   "codemirror_mode": {
    "name": "ipython",
    "version": 3
   },
   "file_extension": ".py",
   "mimetype": "text/x-python",
   "name": "python",
   "nbconvert_exporter": "python",
   "pygments_lexer": "ipython3",
   "version": "3.7.3"
  }
 },
 "nbformat": 4,
 "nbformat_minor": 2
}
