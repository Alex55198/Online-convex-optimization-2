{
 "cells": [
  {
   "cell_type": "markdown",
   "metadata": {},
   "source": [
    "## Exponentiated gradient (+- version)"
   ]
  },
  {
   "cell_type": "code",
   "execution_count": 1,
   "metadata": {},
   "outputs": [],
   "source": [
    "import pandas as pd\n",
    "import numpy as np\n",
    "import matplotlib.pyplot as plt\n",
    "import time\n",
    "from sklearn.linear_model import LinearRegression\n",
    "\n",
    "mnist_train = pd.read_csv(\"mnist_train.csv\", header=None)\n",
    "mnist_test = pd.read_csv(\"mnist_test.csv\", header = None)\n",
    "n,d = mnist_train.shape\n",
    "ntest, dtest = mnist_test.shape\n",
    "\n",
    "\n",
    "y_train = mnist_train.iloc[:,0]\n",
    "X_train = mnist_train.iloc[:,1:]\n",
    "X_train /= 255\n",
    "X_train = np.array(X_train)\n",
    "\n",
    "y_test = mnist_test.iloc[:,0]\n",
    "X_test = mnist_test.iloc[:,1:]\n",
    "X_test /= 255\n",
    "X_test = np.array(X_test)\n",
    "\n",
    "\n",
    "y_train = 2*np.array(y_train == 0)-1 # binary classification\n",
    "y_test = 2*np.array(y_test == 0)-1 "
   ]
  },
  {
   "cell_type": "code",
   "execution_count": 2,
   "metadata": {},
   "outputs": [],
   "source": [
    "def hinge_reg_sgd(x, a, b, lamb):\n",
    "    threshold = b*np.dot(a,x)[0]\n",
    "    cost = np.maximum(1 - threshold,0)\n",
    "    return cost + lamb*np.dot(x.T,x)/2"
   ]
  },
  {
   "cell_type": "code",
   "execution_count": 3,
   "metadata": {},
   "outputs": [],
   "source": [
    "def grad_reg_sgd(x, a, b, lamb, d):\n",
    "    threshold = b*np.dot(a,x)[0]\n",
    "\n",
    "    if (threshold >= 1):\n",
    "        grad = np.zeros(d)\n",
    "    else:\n",
    "        grad = -b*a\n",
    "\n",
    "    return grad.reshape(d,) + lamb*x"
   ]
  },
  {
   "cell_type": "code",
   "execution_count": 4,
   "metadata": {},
   "outputs": [],
   "source": [
    "def hingereg(x, a, b, lamb):\n",
    "    threshold = np.multiply(np.dot(a,x), b) \n",
    "    cost = np.maximum(1 - threshold,0)\n",
    "    return cost.mean() + lamb*np.dot(x.T,x)/2"
   ]
  },
  {
   "cell_type": "code",
   "execution_count": 5,
   "metadata": {},
   "outputs": [],
   "source": [
    "def gradreg(x, a, b, lamb):\n",
    "    n,d = a.shape\n",
    "    threshold = np.multiply(np.dot(a,x) , b)\n",
    "    grad = -np.multiply(a, b.reshape(b.shape[0],1))\n",
    "    idx_zeros = (threshold >= 1)\n",
    "    grad[idx_zeros,:] = np.zeros(d)\n",
    "    return grad.sum(axis=0)/n + lamb*x"
   ]
  },
  {
   "cell_type": "code",
   "execution_count": 6,
   "metadata": {},
   "outputs": [],
   "source": [
    "def proj_simplex(x, z=1):\n",
    "\n",
    "    d = x.shape[0]\n",
    "    x_sorted = -np.sort(-x) \n",
    "    x_cumsum = np.cumsum(x_sorted)\n",
    "    find = x_sorted - (1/np.arange(1,d+1,1))*(x_cumsum - z)\n",
    "    d0 = np.argmax(find <= 0) \n",
    "    theta_star = (1/d0)*(x_cumsum[d0-1] - z)\n",
    "\n",
    "    return np.maximum(x-theta_star,0)\n",
    "\n",
    "\n",
    "def proj_l1(x, z=1):\n",
    "    x_abs = np.absolute(x)\n",
    "    if (np.sum(x_abs) > z):\n",
    "        p_simplex = proj_simplex(x_abs, z)\n",
    "        sgn = 2*(x>0)-1\n",
    "        x = np.multiply(sgn, p_simplex)    \n",
    "    return x"
   ]
  },
  {
   "cell_type": "markdown",
   "metadata": {},
   "source": [
    "#### EG +- algorithm"
   ]
  },
  {
   "cell_type": "code",
   "execution_count": 7,
   "metadata": {},
   "outputs": [],
   "source": [
    "def EG(a, b, iters, cost,  grad, lamb, X_test = None, y_test = None, z=10, k=2):\n",
    "\n",
    "    start_time = time.time()\n",
    "    n,d = a.shape\n",
    "    \n",
    "    indices = np.random.randint(0,n,iters)\n",
    "    params = []\n",
    "    costs = []\n",
    "    test_scores = []\n",
    "    \n",
    "    \n",
    "    W = np.repeat(1,2*d) \n",
    "    w = W/np.sum(W)\n",
    "    x = z*(w[:d] - w[d:])\n",
    "    params.append(x)\n",
    "    p_mean = np.zeros(d)\n",
    "    \n",
    "    \n",
    "    for i in range(1,iters+1):\n",
    "        eta = k*np.sqrt(np.log(2*d)/i)\n",
    "        \n",
    "        # Random indice\n",
    "        x_i = a[indices[i-1],:].reshape(1,d)\n",
    "        y_i = b[indices[i-1]]\n",
    "        \n",
    "        # EG +- update\n",
    "        grad_t = grad(params[-1], x_i, y_i, lamb, d)\n",
    "        W[:d] = np.multiply(W[:d], np.exp(-eta*grad_t))\n",
    "        W[d:] = np.multiply(W[d:], np.exp(eta*grad_t))\n",
    "        w = W/np.sum(W)\n",
    "        x = z*(w[:d] - w[d:])\n",
    "        \n",
    "        # Save\n",
    "        p_mean += x\n",
    "        params.append(x)\n",
    "        c = hingereg(x, a, b, lamb)\n",
    "        costs.append(c)\n",
    "        test_score = (np.multiply(np.matmul(X_test,p_mean/i), y_test) > 0).mean() \n",
    "        test_scores.append(test_score)\n",
    "    \n",
    "    \n",
    "    end_time = time.time()\n",
    "    print(\"Time of execution : %s seconds\" % (end_time - start_time)) \n",
    "    return params, costs, np.array(test_scores)"
   ]
  },
  {
   "cell_type": "code",
   "execution_count": 8,
   "metadata": {},
   "outputs": [
    {
     "name": "stdout",
     "output_type": "stream",
     "text": [
      "Time of execution : 13.974849939346313 seconds\n",
      "max test scores : 0.945\n",
      "last test scores : 0.9449\n"
     ]
    },
    {
     "data": {
      "image/png": "[encoded data removed]",
      "text/plain": [
       "<Figure size 432x288 with 1 Axes>"
      ]
     },
     "metadata": {
      "needs_background": "light"
     },
     "output_type": "display_data"
    }
   ],
   "source": [
    "niter = 400\n",
    "lamb = (1/3)\n",
    "z = 10\n",
    "k = 10\n",
    "params_eg, costs_eg, test_scores_eg = EG(X_train, y_train, niter, hinge_reg_sgd, grad_reg_sgd, lamb, X_test, y_test, z, k)\n",
    "\n",
    "\n",
    "# Convergence on dataset test\n",
    "print(\"max test scores : {}\".format(np.amax(test_scores_eg)))\n",
    "print(\"last test scores : {}\".format(test_scores_eg[-1]))\n",
    "\n",
    "plt.plot(np.log(range(1, niter+1)), np.log(1-np.array(test_scores_eg)), label = \"test scores\")\n",
    "plt.xlabel(\"Iterations\")\n",
    "plt.legend()\n",
    "plt.show()"
   ]
  },
  {
   "cell_type": "markdown",
   "metadata": {},
   "source": [
    "#### Hyperparameters optimization"
   ]
  },
  {
   "cell_type": "code",
   "execution_count": null,
   "metadata": {},
   "outputs": [],
   "source": [
    "def opt(xtrain, ytrain, xtest, ytest):\n",
    "    best_score = -np.inf\n",
    "    best_lr = 0\n",
    "    best_z = 0\n",
    "    best_k = 0\n",
    "    niter = 150 \n",
    "    list_lr = np.logspace(-3,1,5)\n",
    "    list_z = np.logspace(0,2,3)\n",
    "    list_k = np.logspace(-3,1,5)\n",
    "\n",
    "    for l in list_lr:\n",
    "        for z in list_z:\n",
    "            for k in list_k:\n",
    "            \n",
    "                params, costs, test_scores = EG2(xtrain, ytrain, niter, hinge_reg_sgd, grad_reg_sgd, l, X_test, y_test, z, k)\n",
    "                last_score = test_scores[-15:].mean()\n",
    "            \n",
    "                print(\"Lambda = {}, z = {}, k = {}, score = {}\".format(l, z, k, last_score))\n",
    "                print(\"\\t\")\n",
    "            \n",
    "                if (last_score >= best_score):\n",
    "                    best_score = last_score\n",
    "                    best_lr = l\n",
    "                    best_z = z\n",
    "            \n",
    "    return best_lr, best_z, best_k"
   ]
  },
  {
   "cell_type": "code",
   "execution_count": null,
   "metadata": {},
   "outputs": [],
   "source": [
    "best_l, best_z, best_k = opt(X_train, y_train, X_test, y_test)"
   ]
  }
 ],
 "metadata": {
  "kernelspec": {
   "display_name": "Python 3",
   "language": "python",
   "name": "python3"
  },
  "language_info": {
   "codemirror_mode": {
    "name": "ipython",
    "version": 3
   },
   "file_extension": ".py",
   "mimetype": "text/x-python",
   "name": "python",
   "nbconvert_exporter": "python",
   "pygments_lexer": "ipython3",
   "version": "3.7.3"
  }
 },
 "nbformat": 4,
 "nbformat_minor": 2
}
