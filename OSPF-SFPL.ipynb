{
 "cells": [
  {
   "cell_type": "markdown",
   "metadata": {},
   "source": [
    "## Faster Projection-free Online Learning"
   ]
  },
  {
   "cell_type": "markdown",
   "metadata": {},
   "source": [
    "#### Initialisation"
   ]
  },
  {
   "cell_type": "code",
   "execution_count": 13,
   "metadata": {},
   "outputs": [],
   "source": [
    "import pandas as pd\n",
    "import numpy as np\n",
    "import matplotlib.pyplot as plt\n",
    "import time\n",
    "from sklearn.linear_model import LinearRegression\n",
    "\n",
    "mnist_train = pd.read_csv(\"mnist_train.csv\", header=None)\n",
    "mnist_test = pd.read_csv(\"mnist_test.csv\", header = None)\n",
    "\n",
    "\n",
    "y_train = mnist_train.iloc[:,0]\n",
    "X_train = mnist_train.iloc[:,1:]\n",
    "X_train /= 255\n",
    "X_train = np.array(X_train)\n",
    "n,d = X_train.shape\n",
    "\n",
    "\n",
    "y_test = mnist_test.iloc[:,0]\n",
    "X_test = mnist_test.iloc[:,1:]\n",
    "X_test /= 255\n",
    "X_test = np.array(X_test)\n",
    "ntest, dtest = X_test.shape\n",
    "\n",
    "\n",
    "\n",
    "y_train = 2*np.array(y_train == 0)-1 # binary classification \n",
    "y_test = 2*np.array(y_test == 0)-1 "
   ]
  },
  {
   "cell_type": "code",
   "execution_count": 14,
   "metadata": {},
   "outputs": [],
   "source": [
    "def hinge_reg_sgd(x, a, b, lamb):\n",
    "    threshold = b*np.dot(a,x)[0]\n",
    "    cost = np.maximum(1 - threshold,0)\n",
    "    return cost + lamb*np.dot(x.T,x)/2"
   ]
  },
  {
   "cell_type": "code",
   "execution_count": 15,
   "metadata": {},
   "outputs": [],
   "source": [
    "def grad_reg_sgd(x, a, b, lamb, d):\n",
    "    threshold = b*np.dot(a,x)[0]\n",
    "\n",
    "    if (threshold >= 1):\n",
    "        grad = np.zeros(d)\n",
    "    else:\n",
    "        grad = -b*a\n",
    "\n",
    "    return grad.reshape(d,) + lamb*x"
   ]
  },
  {
   "cell_type": "code",
   "execution_count": 16,
   "metadata": {},
   "outputs": [],
   "source": [
    "def hingereg(x, a, b, lamb):\n",
    "    threshold = np.multiply(np.dot(a,x), b) \n",
    "    cost = np.maximum(1 - threshold,0)\n",
    "    return cost.mean() + lamb*np.dot(x.T,x)/2"
   ]
  },
  {
   "cell_type": "code",
   "execution_count": 17,
   "metadata": {},
   "outputs": [],
   "source": [
    "def gradreg(x, a, b, lamb):\n",
    "    n,d = a.shape\n",
    "    threshold = np.multiply(np.dot(a,x) , b)\n",
    "    grad = -np.multiply(a, b.reshape(b.shape[0],1))\n",
    "    idx_zeros = (threshold >= 1)\n",
    "    grad[idx_zeros,:] = np.zeros(d)\n",
    "    return grad.sum(axis=0)/n + lamb*x"
   ]
  },
  {
   "cell_type": "code",
   "execution_count": 18,
   "metadata": {},
   "outputs": [],
   "source": [
    "# Sample vector of dimension dim on the unit ball\n",
    "def sample_ball(dim):\n",
    "    u = np.random.normal(0,1,dim)\n",
    "    norm=np.sum(u**2) **(0.5)\n",
    "    r = np.random.rand()**(1.0/dim)\n",
    "    x = r*u/norm\n",
    "    return x"
   ]
  },
  {
   "cell_type": "code",
   "execution_count": 19,
   "metadata": {},
   "outputs": [],
   "source": [
    "# Projection on the L2 ball\n",
    "def proj_l2(x, z=1):\n",
    "    norm = np.sqrt(np.sum(x**2))\n",
    "    if (norm > z):\n",
    "        x /= (norm/z)\n",
    "    return x"
   ]
  },
  {
   "cell_type": "code",
   "execution_count": 20,
   "metadata": {},
   "outputs": [],
   "source": [
    "# Simplex/ L1 ball projections\n",
    "\n",
    "def proj_simplex(x, z=1):\n",
    "\n",
    "    d = x.shape[0]\n",
    "    x_sorted = -np.sort(-x) \n",
    "    x_cumsum = np.cumsum(x_sorted)\n",
    "    find = x_sorted - (1/np.arange(1,d+1,1))*(x_cumsum - z)\n",
    "    d0 = np.argmax(find <= 0) \n",
    "    theta_star = (1/d0)*(x_cumsum[d0-1] - z)\n",
    "\n",
    "    return np.maximum(x-theta_star,0)\n",
    "\n",
    "\n",
    "def proj_l1(x, z=1):\n",
    "    x_abs = np.absolute(x)\n",
    "    if (np.sum(x_abs) > z):\n",
    "        p_simplex = proj_simplex(x_abs, z)\n",
    "        sgn = 2*(x>0)-1\n",
    "        x = np.multiply(sgn, p_simplex)    \n",
    "    return x"
   ]
  },
  {
   "cell_type": "code",
   "execution_count": 21,
   "metadata": {},
   "outputs": [],
   "source": [
    "def oracle_l1(x,z=10):\n",
    "    idx = np.argmax(np.abs(x))\n",
    "    sign = np.sign(x[idx])\n",
    "    res = np.zeros(d) \n",
    "    res[idx] = z*sign\n",
    "    return res"
   ]
  },
  {
   "cell_type": "markdown",
   "metadata": {},
   "source": [
    "#### Algorithms"
   ]
  },
  {
   "cell_type": "code",
   "execution_count": 22,
   "metadata": {},
   "outputs": [],
   "source": [
    "def OSPF(a, b, init, iters, cost,  grad, oracle, X_test = None, y_test = None, z=0.75, k=5, delta=1, lamb = (1/3)):\n",
    "\n",
    "    start_time = time.time()\n",
    "    n,d = a.shape\n",
    "    \n",
    "    indices = np.random.randint(0,n,iters)\n",
    "    test_scores = []\n",
    "    grad_sum = np.zeros(d)\n",
    "    x_mean = init\n",
    "    x_t = init\n",
    "\n",
    "    \n",
    "    for i in range(1,iters+1):\n",
    "        delta = np.sqrt(1/i)\n",
    "\n",
    "        \n",
    "        if (i % k != 0):\n",
    "            x_i = a[indices[i-1],:].reshape(1,d)\n",
    "            y_i = b[indices[i-1]]\n",
    "            grad_t = grad(x_t, x_i, y_i, lamb, d)\n",
    "            grad_sum += grad_t\n",
    "            \n",
    "            x_mean += x_t\n",
    "            test_score = (np.multiply(np.matmul(X_test,x_mean/i), y_test) > 0).mean() \n",
    "            test_scores.append(test_score)\n",
    "            \n",
    "            \n",
    "        else:\n",
    "            to_proj = [(1/delta)*sample_ball(d) -grad_sum for _ in range(k)]\n",
    "            xj = np.array([oracle(x, z) for x in to_proj])\n",
    "            x_t = np.mean(xj, axis=0)\n",
    "            \n",
    "            x_mean += x_t\n",
    "            test_score = (np.multiply(np.matmul(X_test,x_mean/i), y_test) > 0).mean() \n",
    "            test_scores.append(test_score)\n",
    "            \n",
    "            \n",
    "            x_i = a[indices[i-1],:].reshape(1,d)\n",
    "            y_i = b[indices[i-1]]\n",
    "            grad_t = grad(x_t, x_i, y_i, lamb, d)\n",
    "            grad_sum += grad_t\n",
    "        \n",
    "        \n",
    "    \n",
    "    end_time = time.time()\n",
    "    print(\"Time of execution : %s seconds\" % (end_time - start_time)) \n",
    "    return np.array(test_scores)"
   ]
  },
  {
   "cell_type": "code",
   "execution_count": null,
   "metadata": {},
   "outputs": [],
   "source": [
    "def SFPL(a, b, iters, cost,  grad, oracle, X_test = None, y_test = None, z=10, delta=1, m = 25, lamb = (1/3)):\n",
    "    start_time = time.time()\n",
    "    n,d = a.shape\n",
    "    \n",
    "    indices = np.random.randint(0,n,iters)\n",
    "    test_scores = []\n",
    "    \n",
    "    grad_sum = np.zeros(d)\n",
    "    x_mean = np.zeros(d)\n",
    "    x_t = np.zeros(d)\n",
    "\n",
    "    i=1\n",
    "    test_score = 0\n",
    "    while True:       \n",
    "        # Learn\n",
    "        delta, m = np.sqrt(1/i), int(1+lamb*z*np.sqrt(i))\n",
    "        vjs = np.array([sample_ball(d) for _ in range(m)]) # shape = m x d\n",
    "        xjs = np.array([oracle(-grad_sum+ (1/delta)*vjs[j], z) for j in range(m)]) \n",
    "        xt = np.mean(xjs, axis=0)\n",
    "        x_mean += xt\n",
    "        \n",
    "        # Incur\n",
    "        x_i = a[indices[i-1],:].reshape(1,d)\n",
    "        y_i = b[indices[i-1]]\n",
    "        grad_t = grad(xt, x_i, y_i, lamb, d)\n",
    "        grad_sum += grad_t\n",
    "            \n",
    "\n",
    "        # Save\n",
    "        test_score = (np.multiply(np.matmul(X_test,x_mean/i), y_test) > 0).mean() \n",
    "        test_scores.append(test_score)\n",
    "        \n",
    "        i += 1\n",
    "        if test_score >= acc_to_solve:\n",
    "            break\n",
    "    \n",
    "    end_time = time.time()\n",
    "    return end_time - start_time "
   ]
  },
  {
   "cell_type": "markdown",
   "metadata": {},
   "source": [
    "#### Learning"
   ]
  },
  {
   "cell_type": "code",
   "execution_count": 25,
   "metadata": {},
   "outputs": [
    {
     "name": "stdout",
     "output_type": "stream",
     "text": [
      "Time of execution : 1.3640110492706299 seconds\n",
      "max test scores : 0.952\n",
      "last test scores : 0.9512\n"
     ]
    },
    {
     "data": {
      "image/png": "[encoded data removed]",
      "text/plain": [
       "<Figure size 432x288 with 1 Axes>"
      ]
     },
     "metadata": {
      "needs_background": "light"
     },
     "output_type": "display_data"
    }
   ],
   "source": [
    "x0 = np.zeros(d) \n",
    "niter = 250\n",
    "delta, k = np.sqrt(1/niter), 3\n",
    "lamb = (1/3)\n",
    "z=0.75\n",
    "test_scores = OSPF(X_train, y_train, x0, niter, hinge_reg_sgd, grad_reg_sgd, proj_l2, X_test, y_test, z, k, delta, lamb)\n",
    "\n",
    "# Convergence on test set\n",
    "plt.plot(np.log(range(1, niter+1)), np.log(1-test_scores), label = \"test scores\")\n",
    "print(\"max test scores : {}\".format(np.amax(test_scores)))\n",
    "print(\"last test scores : {}\".format(test_scores[-1]))\n",
    "plt.xlabel(\"Iterations\")\n",
    "plt.ylabel(\"Test loss (log-scale)\")\n",
    "plt.legend()\n",
    "plt.show()"
   ]
  },
  {
   "cell_type": "markdown",
   "metadata": {},
   "source": [
    "#### Hyperparameters tuning"
   ]
  },
  {
   "cell_type": "code",
   "execution_count": null,
   "metadata": {},
   "outputs": [],
   "source": [
    "def opt_ospf(xtrain, ytrain, xtest, ytest, cv = 3):\n",
    "    best_score = -np.inf\n",
    "    best_z = 0\n",
    "    \n",
    "    niter = 500 \n",
    "    de = np.sqrt(1/niter)\n",
    "    list_z = [0.5,0.75,1,2]\n",
    "\n",
    "    for z in list_z:\n",
    "            \n",
    "        cv_score = 0\n",
    "        for _ in range(cv):\n",
    "            x0 = np.zeros(d) \n",
    "            test_scores = OSPF(xtrain, ytrain, x0, niter, hinge_reg_sgd, grad_reg_sgd, proj_l2, xtest, ytest, z, k=5, delta=de)\n",
    "            cv_score += test_scores[-1]\n",
    "        cv_score /= cv\n",
    "\n",
    "        print(\"z = {}, Cross-val score = {}\".format(z, cv_score), \"\\t\")\n",
    "        if (cv_score >= best_score):\n",
    "            best_score = cv_score\n",
    "            best_z = z\n",
    "                \n",
    "            \n",
    "    return best_z"
   ]
  },
  {
   "cell_type": "code",
   "execution_count": null,
   "metadata": {},
   "outputs": [],
   "source": [
    "best_z = opt_ospf(X_train, y_train, X_test, y_test)"
   ]
  }
 ],
 "metadata": {
  "kernelspec": {
   "display_name": "Python 3",
   "language": "python",
   "name": "python3"
  },
  "language_info": {
   "codemirror_mode": {
    "name": "ipython",
    "version": 3
   },
   "file_extension": ".py",
   "mimetype": "text/x-python",
   "name": "python",
   "nbconvert_exporter": "python",
   "pygments_lexer": "ipython3",
   "version": "3.7.3"
  }
 },
 "nbformat": 4,
 "nbformat_minor": 2
}
